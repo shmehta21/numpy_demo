{
 "cells": [
  {
   "cell_type": "markdown",
   "metadata": {},
   "source": [
    "<h4> Python lists v/s Numpy arrays </h4>"
   ]
  },
  {
   "cell_type": "code",
   "execution_count": 1,
   "metadata": {},
   "outputs": [
    {
     "name": "stdout",
     "output_type": "stream",
     "text": [
      "[2, 12, 36]\n"
     ]
    }
   ],
   "source": [
    "# Simple add operation b/w elements from 2 different lists\n",
    "list_two = list(range(1,4))\n",
    "list_three = list(range(1,4))\n",
    "list_sum = []\n",
    "for index in range(3):\n",
    "    list_two[index] = list_two[index] ** 2\n",
    "    list_three[index] = list_three[index] ** 3\n",
    "    list_sum.append(list_two[index] + list_three[index])\n",
    "print(list_sum)"
   ]
  },
  {
   "cell_type": "code",
   "execution_count": 2,
   "metadata": {},
   "outputs": [
    {
     "name": "stdout",
     "output_type": "stream",
     "text": [
      "[1 2 3]\n",
      "Square root->[1.         1.41421356 1.73205081]\n",
      "Logarithm->[0.         0.69314718 1.09861229]\n",
      "Exponential->[ 2.71828183  7.3890561  20.08553692]\n"
     ]
    }
   ],
   "source": [
    "# Add operation b/w elements of a numpy array\n",
    "import numpy as np\n",
    "array_two = np.arange(1, 4) #arange produces an array whereas range creates a list\n",
    "print(array_two) #Array does not have commas\n",
    "print(f'Square root->{np.sqrt(array_two)}')#In case of a list all of these operations will have to be done in a for loop and then applying this operation to each element in the list\n",
    "print(f'Logarithm->{np.log(array_two)}')\n",
    "print(f'Exponential->{np.exp(array_two)}')\n",
    "\n",
    "#Note: Numpy arrays are densely packed arrays of homogenuous type.\n",
    "#Python lists, by contrast, are arrays of pointers to objects. So, \n",
    "#with numpy you get the benefits of locality of reference, where the processor\n",
    "#refers to the use of data elements within relatively close storage locations."
   ]
  },
  {
   "cell_type": "code",
   "execution_count": 3,
   "metadata": {},
   "outputs": [
    {
     "name": "stdout",
     "output_type": "stream",
     "text": [
      "[1 4 9]\n",
      "[ 1  8 27]\n",
      "[ 2 12 36]\n"
     ]
    }
   ],
   "source": [
    "array_two = np.arange(1,4) ** 2 #range(1,4) ** 2 would have printed the same elements twice\n",
    "print(array_two)\n",
    "array_three = np.arange(1,4) ** 3\n",
    "print(array_three)\n",
    "print(array_two + array_three)"
   ]
  },
  {
   "cell_type": "code",
   "execution_count": 4,
   "metadata": {},
   "outputs": [],
   "source": [
    "sample_array = np.array([1,2,3])"
   ]
  },
  {
   "cell_type": "code",
   "execution_count": 5,
   "metadata": {},
   "outputs": [
    {
     "data": {
      "text/plain": [
       "array([ 1, 16, 81])"
      ]
     },
     "execution_count": 5,
     "metadata": {},
     "output_type": "execute_result"
    }
   ],
   "source": [
    "np.power(sample_array, 4)# will raise all elements of the array by the specified power"
   ]
  },
  {
   "cell_type": "code",
   "execution_count": 6,
   "metadata": {},
   "outputs": [
    {
     "name": "stdout",
     "output_type": "stream",
     "text": [
      "[-1 -2 -3]\n"
     ]
    }
   ],
   "source": [
    "print(np.negative(sample_array))"
   ]
  },
  {
   "cell_type": "markdown",
   "metadata": {},
   "source": [
    "<h4> Multidimensional Numpy Arrays </h4>"
   ]
  },
  {
   "cell_type": "code",
   "execution_count": 7,
   "metadata": {},
   "outputs": [
    {
     "data": {
      "text/plain": [
       "array([ 1.   ,  1.375,  1.75 ,  2.125,  2.5  ,  2.875,  3.25 ,  3.625,\n",
       "        4.   ,  4.375,  4.75 ,  5.125,  5.5  ,  5.875,  6.25 ,  6.625,\n",
       "        7.   ,  7.375,  7.75 ,  8.125,  8.5  ,  8.875,  9.25 ,  9.625,\n",
       "       10.   ])"
      ]
     },
     "execution_count": 7,
     "metadata": {},
     "output_type": "execute_result"
    }
   ],
   "source": [
    "b = np.linspace(1,10,25)# linspace will generate evenly distributed 25 values b/w 1 to 10\n",
    "b                    #linspace will exclude the last value 10 if a 4th parameter is passed in the call (eg:False)"
   ]
  },
  {
   "cell_type": "code",
   "execution_count": 8,
   "metadata": {},
   "outputs": [
    {
     "name": "stdout",
     "output_type": "stream",
     "text": [
      "[[0 1 2]\n",
      " [3 4 5]\n",
      " [6 7 8]]\n",
      "(3, 3)\n",
      "int64\n"
     ]
    },
    {
     "data": {
      "text/plain": [
       "5"
      ]
     },
     "execution_count": 8,
     "metadata": {},
     "output_type": "execute_result"
    }
   ],
   "source": [
    "#Combining multiple single dimensional arrays into a single multi dimensional array\n",
    "# with 3 rows and 3 columns\n",
    "x= np.arange(3)\n",
    "y = np.arange(3,6)\n",
    "z = np.arange(6,9)\n",
    "multi_array = np.array([x,y,z])\n",
    "print(multi_array)\n",
    "print(multi_array.shape)\n",
    "print(multi_array.dtype)\n",
    "multi_array[1,2]"
   ]
  },
  {
   "cell_type": "markdown",
   "metadata": {},
   "source": [
    "<h4> Slicing one dimensional Numpy Array </h4>"
   ]
  },
  {
   "cell_type": "code",
   "execution_count": 9,
   "metadata": {},
   "outputs": [
    {
     "name": "stdout",
     "output_type": "stream",
     "text": [
      "[1 2 3 4 5 6 7 8 9]\n"
     ]
    },
    {
     "data": {
      "text/plain": [
       "array([3, 4, 5, 6, 7])"
      ]
     },
     "execution_count": 9,
     "metadata": {},
     "output_type": "execute_result"
    }
   ],
   "source": [
    "x = np.arange(1,10)\n",
    "print(x)\n",
    "x[2:7] #Stop index is exclusive, can also supply a step index"
   ]
  },
  {
   "cell_type": "code",
   "execution_count": 10,
   "metadata": {},
   "outputs": [
    {
     "data": {
      "text/plain": [
       "array([1, 2, 3, 4, 5, 6, 7, 8, 9])"
      ]
     },
     "execution_count": 10,
     "metadata": {},
     "output_type": "execute_result"
    }
   ],
   "source": [
    "x"
   ]
  },
  {
   "cell_type": "markdown",
   "metadata": {},
   "source": [
    "<h4>Reshaping NumPy Arrays</h4>"
   ]
  },
  {
   "cell_type": "code",
   "execution_count": 11,
   "metadata": {},
   "outputs": [
    {
     "name": "stdout",
     "output_type": "stream",
     "text": [
      "[0 1 2 3 4 5 6 7 8]\n"
     ]
    }
   ],
   "source": [
    "x = np.arange(9)\n",
    "print(x)"
   ]
  },
  {
   "cell_type": "code",
   "execution_count": 12,
   "metadata": {},
   "outputs": [
    {
     "name": "stdout",
     "output_type": "stream",
     "text": [
      "[[0 1 2]\n",
      " [3 4 5]\n",
      " [6 7 8]]\n"
     ]
    }
   ],
   "source": [
    "x = np.arange(9).reshape(3,3) # should be defined taking care that n*m = total # of elements in the array\n",
    "print(x)"
   ]
  },
  {
   "cell_type": "code",
   "execution_count": 13,
   "metadata": {},
   "outputs": [
    {
     "name": "stdout",
     "output_type": "stream",
     "text": [
      "[[[ 0  1  2]\n",
      "  [ 3  4  5]\n",
      "  [ 6  7  8]]\n",
      "\n",
      " [[ 9 10 11]\n",
      "  [12 13 14]\n",
      "  [15 16 17]]]\n"
     ]
    }
   ],
   "source": [
    "y = np.arange(18).reshape(2,3,3)#Have two blocks of 3*3 arrays\n",
    "print(y)"
   ]
  },
  {
   "cell_type": "code",
   "execution_count": 14,
   "metadata": {},
   "outputs": [
    {
     "name": "stdout",
     "output_type": "stream",
     "text": [
      "[[[ 0  1]\n",
      "  [ 2  3]\n",
      "  [ 4  5]]\n",
      "\n",
      " [[ 6  7]\n",
      "  [ 8  9]\n",
      "  [10 11]]\n",
      "\n",
      " [[12 13]\n",
      "  [14 15]\n",
      "  [16 17]]]\n"
     ]
    }
   ],
   "source": [
    "z = np.arange(18).reshape(3,3,2)#Have three blocks of 3*2 arrays\n",
    "print(z)"
   ]
  },
  {
   "cell_type": "markdown",
   "metadata": {},
   "source": [
    "<h4>Slicing Multi-dimensional arrays</h4>"
   ]
  },
  {
   "cell_type": "code",
   "execution_count": 15,
   "metadata": {},
   "outputs": [
    {
     "name": "stdout",
     "output_type": "stream",
     "text": [
      "[[[ 0  1  2]\n",
      "  [ 3  4  5]]\n",
      "\n",
      " [[ 6  7  8]\n",
      "  [ 9 10 11]]\n",
      "\n",
      " [[12 13 14]\n",
      "  [15 16 17]]]\n"
     ]
    }
   ],
   "source": [
    "p = np.arange(18).reshape(3,2,3)\n",
    "print(p)"
   ]
  },
  {
   "cell_type": "code",
   "execution_count": 16,
   "metadata": {},
   "outputs": [
    {
     "data": {
      "text/plain": [
       "10"
      ]
     },
     "execution_count": 16,
     "metadata": {},
     "output_type": "execute_result"
    }
   ],
   "source": [
    "#For Accessing element 10\n",
    "p[1,1,1]#Get it from 1st block, Row 1 and column 1"
   ]
  },
  {
   "cell_type": "markdown",
   "metadata": {},
   "source": [
    "<h4> Dot product </h4>"
   ]
  },
  {
   "cell_type": "code",
   "execution_count": 19,
   "metadata": {},
   "outputs": [
    {
     "name": "stdout",
     "output_type": "stream",
     "text": [
      "[2 2]\n",
      "4\n",
      "[[[[  0   1   2   3   4   5]\n",
      "   [  6   7   8   9  10  11]\n",
      "   [ 12  13  14  15  16  17]\n",
      "   [ 18  19  20  21  22  23]\n",
      "   [ 24  25  26  27  28  29]]\n",
      "\n",
      "  [[ 30  31  32  33  34  35]\n",
      "   [ 36  37  38  39  40  41]\n",
      "   [ 42  43  44  45  46  47]\n",
      "   [ 48  49  50  51  52  53]\n",
      "   [ 54  55  56  57  58  59]]\n",
      "\n",
      "  [[ 60  61  62  63  64  65]\n",
      "   [ 66  67  68  69  70  71]\n",
      "   [ 72  73  74  75  76  77]\n",
      "   [ 78  79  80  81  82  83]\n",
      "   [ 84  85  86  87  88  89]]\n",
      "\n",
      "  [[ 90  91  92  93  94  95]\n",
      "   [ 96  97  98  99 100 101]\n",
      "   [102 103 104 105 106 107]\n",
      "   [108 109 110 111 112 113]\n",
      "   [114 115 116 117 118 119]]]\n",
      "\n",
      "\n",
      " [[[120 121 122 123 124 125]\n",
      "   [126 127 128 129 130 131]\n",
      "   [132 133 134 135 136 137]\n",
      "   [138 139 140 141 142 143]\n",
      "   [144 145 146 147 148 149]]\n",
      "\n",
      "  [[150 151 152 153 154 155]\n",
      "   [156 157 158 159 160 161]\n",
      "   [162 163 164 165 166 167]\n",
      "   [168 169 170 171 172 173]\n",
      "   [174 175 176 177 178 179]]\n",
      "\n",
      "  [[180 181 182 183 184 185]\n",
      "   [186 187 188 189 190 191]\n",
      "   [192 193 194 195 196 197]\n",
      "   [198 199 200 201 202 203]\n",
      "   [204 205 206 207 208 209]]\n",
      "\n",
      "  [[210 211 212 213 214 215]\n",
      "   [216 217 218 219 220 221]\n",
      "   [222 223 224 225 226 227]\n",
      "   [228 229 230 231 232 233]\n",
      "   [234 235 236 237 238 239]]]\n",
      "\n",
      "\n",
      " [[[240 241 242 243 244 245]\n",
      "   [246 247 248 249 250 251]\n",
      "   [252 253 254 255 256 257]\n",
      "   [258 259 260 261 262 263]\n",
      "   [264 265 266 267 268 269]]\n",
      "\n",
      "  [[270 271 272 273 274 275]\n",
      "   [276 277 278 279 280 281]\n",
      "   [282 283 284 285 286 287]\n",
      "   [288 289 290 291 292 293]\n",
      "   [294 295 296 297 298 299]]\n",
      "\n",
      "  [[300 301 302 303 304 305]\n",
      "   [306 307 308 309 310 311]\n",
      "   [312 313 314 315 316 317]\n",
      "   [318 319 320 321 322 323]\n",
      "   [324 325 326 327 328 329]]\n",
      "\n",
      "  [[330 331 332 333 334 335]\n",
      "   [336 337 338 339 340 341]\n",
      "   [342 343 344 345 346 347]\n",
      "   [348 349 350 351 352 353]\n",
      "   [354 355 356 357 358 359]]]]\n"
     ]
    }
   ],
   "source": [
    "a = np.array([1,2])\n",
    "b = np.array([2,1])\n",
    "print(a*b) #element wise multiplication of 2 arrays\n",
    "print(np.sum(a*b))#element wise addition of 2 arrays\n",
    "a1 = np.arange(3*4*5*6).reshape((3,4,5,6))#makes 3 groups having 4 matrices each and each matrix has 5 rows and 6 columns\n",
    "print(a1)"
   ]
  },
  {
   "cell_type": "markdown",
   "metadata": {},
   "source": [
    "<h4> Vectors and Matrices </h4>"
   ]
  },
  {
   "cell_type": "code",
   "execution_count": 25,
   "metadata": {},
   "outputs": [
    {
     "name": "stdout",
     "output_type": "stream",
     "text": [
      "1\n",
      "1\n",
      "<class 'numpy.ndarray'>\n"
     ]
    },
    {
     "data": {
      "text/plain": [
       "(None, None)"
      ]
     },
     "execution_count": 25,
     "metadata": {},
     "output_type": "execute_result"
    }
   ],
   "source": [
    "M = np.array([ [1,2],[3,4] ])#Array is a 1-D numpy array\n",
    "L = [ [1,2],[3,4] ]\n",
    "#Getting first element of the list(vector)\n",
    "print(L[0][0])\n",
    "#Getting first element of the matrix\n",
    "print(M[0,0]), print(type(M))"
   ]
  },
  {
   "cell_type": "code",
   "execution_count": 24,
   "metadata": {},
   "outputs": [
    {
     "name": "stdout",
     "output_type": "stream",
     "text": [
      "[[1 2]\n",
      " [3 4]]\n",
      "<class 'numpy.matrix'>\n"
     ]
    },
    {
     "data": {
      "text/plain": [
       "(None, None)"
      ]
     },
     "execution_count": 24,
     "metadata": {},
     "output_type": "execute_result"
    }
   ],
   "source": [
    "M2 = np.matrix([ [1,2],[3,4] ])#Matrix is a 2-D numpy array\n",
    "print(M2), print(type(M2))"
   ]
  },
  {
   "cell_type": "code",
   "execution_count": 28,
   "metadata": {},
   "outputs": [
    {
     "name": "stdout",
     "output_type": "stream",
     "text": [
      "[[1 3]\n",
      " [2 4]]\n",
      "[[1 3]\n",
      " [2 4]]\n"
     ]
    },
    {
     "data": {
      "text/plain": [
       "(None, None)"
      ]
     },
     "execution_count": 28,
     "metadata": {},
     "output_type": "execute_result"
    }
   ],
   "source": [
    "#Turns rows into columns and columns into rows\n",
    "print(M2.T), print(M.T) #Transpose of a matrix and ndarray"
   ]
  },
  {
   "cell_type": "code",
   "execution_count": 32,
   "metadata": {},
   "outputs": [
    {
     "name": "stdout",
     "output_type": "stream",
     "text": [
      "[[1. 1. 1. 1. 1. 1. 1. 1. 1. 1.]\n",
      " [1. 1. 1. 1. 1. 1. 1. 1. 1. 1.]\n",
      " [1. 1. 1. 1. 1. 1. 1. 1. 1. 1.]\n",
      " [1. 1. 1. 1. 1. 1. 1. 1. 1. 1.]\n",
      " [1. 1. 1. 1. 1. 1. 1. 1. 1. 1.]\n",
      " [1. 1. 1. 1. 1. 1. 1. 1. 1. 1.]\n",
      " [1. 1. 1. 1. 1. 1. 1. 1. 1. 1.]\n",
      " [1. 1. 1. 1. 1. 1. 1. 1. 1. 1.]\n",
      " [1. 1. 1. 1. 1. 1. 1. 1. 1. 1.]\n",
      " [1. 1. 1. 1. 1. 1. 1. 1. 1. 1.]]\n"
     ]
    }
   ],
   "source": [
    "O = np.ones((10,10))# creating a 10*10 matrix with the only element as 1\n",
    "print(O)"
   ]
  },
  {
   "cell_type": "code",
   "execution_count": 31,
   "metadata": {},
   "outputs": [
    {
     "name": "stdout",
     "output_type": "stream",
     "text": [
      "[[0. 0. 0. 0. 0. 0. 0. 0. 0. 0.]\n",
      " [0. 0. 0. 0. 0. 0. 0. 0. 0. 0.]\n",
      " [0. 0. 0. 0. 0. 0. 0. 0. 0. 0.]\n",
      " [0. 0. 0. 0. 0. 0. 0. 0. 0. 0.]\n",
      " [0. 0. 0. 0. 0. 0. 0. 0. 0. 0.]\n",
      " [0. 0. 0. 0. 0. 0. 0. 0. 0. 0.]\n",
      " [0. 0. 0. 0. 0. 0. 0. 0. 0. 0.]\n",
      " [0. 0. 0. 0. 0. 0. 0. 0. 0. 0.]\n",
      " [0. 0. 0. 0. 0. 0. 0. 0. 0. 0.]\n",
      " [0. 0. 0. 0. 0. 0. 0. 0. 0. 0.]]\n",
      "<class 'numpy.ndarray'>\n"
     ]
    },
    {
     "data": {
      "text/plain": [
       "(None, None)"
      ]
     },
     "execution_count": 31,
     "metadata": {},
     "output_type": "execute_result"
    }
   ],
   "source": [
    "Z = np.zeros((10,10)) # creating a 10*10 matrix with the only element as 0\n",
    "print(Z), print(type(Z))"
   ]
  }
 ],
 "metadata": {
  "kernelspec": {
   "display_name": "Python 3",
   "language": "python",
   "name": "python3"
  },
  "language_info": {
   "codemirror_mode": {
    "name": "ipython",
    "version": 3
   },
   "file_extension": ".py",
   "mimetype": "text/x-python",
   "name": "python",
   "nbconvert_exporter": "python",
   "pygments_lexer": "ipython3",
   "version": "3.7.1"
  }
 },
 "nbformat": 4,
 "nbformat_minor": 2
}
